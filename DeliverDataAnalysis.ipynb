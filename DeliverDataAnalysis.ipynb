{
  "nbformat": 4,
  "nbformat_minor": 0,
  "metadata": {
    "colab": {
      "provenance": [],
      "authorship_tag": "ABX9TyPQrrA4GQEW9xoDNfLRB7O2",
      "include_colab_link": true
    },
    "kernelspec": {
      "name": "python3",
      "display_name": "Python 3"
    },
    "language_info": {
      "name": "python"
    }
  },
  "cells": [
    {
      "cell_type": "markdown",
      "metadata": {
        "id": "view-in-github",
        "colab_type": "text"
      },
      "source": [
        "<a href=\"https://colab.research.google.com/github/JabulaniMcineka/MyProjects/blob/main/DeliverDataAnalysis.ipynb\" target=\"_parent\"><img src=\"https://colab.research.google.com/assets/colab-badge.svg\" alt=\"Open In Colab\"/></a>"
      ]
    },
    {
      "cell_type": "code",
      "execution_count": 23,
      "metadata": {
        "id": "9x5oR5R89u9m"
      },
      "outputs": [],
      "source": [
        "import sqlite3\n",
        "\n",
        "# Connect to SQLite (creates file if not exists)\n",
        "conn = sqlite3.connect(\"Delivery.db\")\n",
        "cur = conn.cursor()\n",
        "\n",
        "# Create Deliveries table\n",
        "cur.execute(\"\"\"\n",
        "CREATE TABLE IF NOT EXISTS Deliveries (\n",
        "    delivery_id VARCHAR(10) PRIMARY KEY,\n",
        "    city VARCHAR(50),\n",
        "    customer_id INT,\n",
        "    scheduled_datetime DATETIME,\n",
        "    delivered_datetime DATETIME,\n",
        "    status VARCHAR(20),\n",
        "    delay_minutes INT,\n",
        "    carrier VARCHAR(50),\n",
        "    distance_km INT,\n",
        "    weight_kg DECIMAL(10,2)\n",
        ");\n",
        "\"\"\")\n",
        "\n",
        "conn.commit()\n",
        "\n",
        "\n"
      ]
    },
    {
      "cell_type": "code",
      "source": [
        "import pandas as pd"
      ],
      "metadata": {
        "id": "AWRMzQ6397TL"
      },
      "execution_count": 24,
      "outputs": []
    },
    {
      "cell_type": "code",
      "source": [
        "# Load CSVs into DataFrames\n",
        "df_deliveries = pd.read_csv(\"delivery_data.csv\")\n",
        "\n",
        "# Insert into tables\n",
        "df_deliveries.to_sql(\"delivery_data\", conn, if_exists=\"append\", index=False)\n"
      ],
      "metadata": {
        "colab": {
          "base_uri": "https://localhost:8080/"
        },
        "id": "gX0fkwar-D--",
        "outputId": "86f2b932-4a4f-4d68-de52-b0ef85098dee"
      },
      "execution_count": 25,
      "outputs": [
        {
          "output_type": "execute_result",
          "data": {
            "text/plain": [
              "250"
            ]
          },
          "metadata": {},
          "execution_count": 25
        }
      ]
    },
    {
      "cell_type": "code",
      "source": [
        "pd.read_sql(\"SELECT * FROM Deliveries\", conn)"
      ],
      "metadata": {
        "colab": {
          "base_uri": "https://localhost:8080/",
          "height": 423
        },
        "id": "j6gbvD08-GxN",
        "outputId": "f75b2a74-3013-43ae-8fc1-a9a8923dfe07"
      },
      "execution_count": 26,
      "outputs": [
        {
          "output_type": "execute_result",
          "data": {
            "text/plain": [
              "    delivery_id          city  customer_id   scheduled_datetime  \\\n",
              "0        D00001     Cape Town        15390  2025-06-12 13:00:00   \n",
              "1        D00002  Bloemfontein        16949  2025-05-02 17:00:00   \n",
              "2        D00003     Cape Town        18666  2025-06-28 15:00:00   \n",
              "3        D00004        Durban        17734  2025-06-21 14:00:00   \n",
              "4        D00005  Johannesburg        18792  2025-06-29 07:00:00   \n",
              "..          ...           ...          ...                  ...   \n",
              "245      D00246  Bloemfontein        13537  2025-05-02 10:00:00   \n",
              "246      D00247      Pretoria        11724  2025-06-02 13:00:00   \n",
              "247      D00248  Johannesburg        19496  2025-06-06 13:00:00   \n",
              "248      D00249      Gqeberha        15343  2025-06-11 07:00:00   \n",
              "249      D00250  Johannesburg        12159  2025-05-13 14:00:00   \n",
              "\n",
              "      delivered_datetime     status  delay_minutes   carrier  distance_km  \\\n",
              "0    2025-06-13 07:55:00  Delivered             31    SwiftX          135   \n",
              "1    2025-05-02 22:36:00  Delivered              0  MegaHaul         1342   \n",
              "2    2025-06-29 04:39:00  Delivered             60    SwiftX          194   \n",
              "3    2025-06-22 10:14:00  Delivered              0  MegaHaul          651   \n",
              "4    2025-06-29 20:56:00  Delivered              0  MegaHaul          960   \n",
              "..                   ...        ...            ...       ...          ...   \n",
              "245  2025-05-02 19:01:00  Delivered             19    SwiftX         1435   \n",
              "246  2025-06-02 23:15:00  Delivered             41   SkyDrop           23   \n",
              "247  2025-06-06 20:01:00  Delivered              0  MegaHaul          133   \n",
              "248  2025-06-11 15:52:00  Delivered              0  MegaHaul          306   \n",
              "249  2025-05-13 23:48:00  Delivered             29    SwiftX         1040   \n",
              "\n",
              "     weight_kg  \n",
              "0          1.5  \n",
              "1         26.5  \n",
              "2          5.0  \n",
              "3          8.9  \n",
              "4          6.5  \n",
              "..         ...  \n",
              "245       42.1  \n",
              "246        8.0  \n",
              "247       37.2  \n",
              "248       31.0  \n",
              "249       37.4  \n",
              "\n",
              "[250 rows x 10 columns]"
            ],
            "text/html": [
              "\n",
              "  <div id=\"df-9cb9345b-7d39-48a1-928a-f3bcc8dfe4b2\" class=\"colab-df-container\">\n",
              "    <div>\n",
              "<style scoped>\n",
              "    .dataframe tbody tr th:only-of-type {\n",
              "        vertical-align: middle;\n",
              "    }\n",
              "\n",
              "    .dataframe tbody tr th {\n",
              "        vertical-align: top;\n",
              "    }\n",
              "\n",
              "    .dataframe thead th {\n",
              "        text-align: right;\n",
              "    }\n",
              "</style>\n",
              "<table border=\"1\" class=\"dataframe\">\n",
              "  <thead>\n",
              "    <tr style=\"text-align: right;\">\n",
              "      <th></th>\n",
              "      <th>delivery_id</th>\n",
              "      <th>city</th>\n",
              "      <th>customer_id</th>\n",
              "      <th>scheduled_datetime</th>\n",
              "      <th>delivered_datetime</th>\n",
              "      <th>status</th>\n",
              "      <th>delay_minutes</th>\n",
              "      <th>carrier</th>\n",
              "      <th>distance_km</th>\n",
              "      <th>weight_kg</th>\n",
              "    </tr>\n",
              "  </thead>\n",
              "  <tbody>\n",
              "    <tr>\n",
              "      <th>0</th>\n",
              "      <td>D00001</td>\n",
              "      <td>Cape Town</td>\n",
              "      <td>15390</td>\n",
              "      <td>2025-06-12 13:00:00</td>\n",
              "      <td>2025-06-13 07:55:00</td>\n",
              "      <td>Delivered</td>\n",
              "      <td>31</td>\n",
              "      <td>SwiftX</td>\n",
              "      <td>135</td>\n",
              "      <td>1.5</td>\n",
              "    </tr>\n",
              "    <tr>\n",
              "      <th>1</th>\n",
              "      <td>D00002</td>\n",
              "      <td>Bloemfontein</td>\n",
              "      <td>16949</td>\n",
              "      <td>2025-05-02 17:00:00</td>\n",
              "      <td>2025-05-02 22:36:00</td>\n",
              "      <td>Delivered</td>\n",
              "      <td>0</td>\n",
              "      <td>MegaHaul</td>\n",
              "      <td>1342</td>\n",
              "      <td>26.5</td>\n",
              "    </tr>\n",
              "    <tr>\n",
              "      <th>2</th>\n",
              "      <td>D00003</td>\n",
              "      <td>Cape Town</td>\n",
              "      <td>18666</td>\n",
              "      <td>2025-06-28 15:00:00</td>\n",
              "      <td>2025-06-29 04:39:00</td>\n",
              "      <td>Delivered</td>\n",
              "      <td>60</td>\n",
              "      <td>SwiftX</td>\n",
              "      <td>194</td>\n",
              "      <td>5.0</td>\n",
              "    </tr>\n",
              "    <tr>\n",
              "      <th>3</th>\n",
              "      <td>D00004</td>\n",
              "      <td>Durban</td>\n",
              "      <td>17734</td>\n",
              "      <td>2025-06-21 14:00:00</td>\n",
              "      <td>2025-06-22 10:14:00</td>\n",
              "      <td>Delivered</td>\n",
              "      <td>0</td>\n",
              "      <td>MegaHaul</td>\n",
              "      <td>651</td>\n",
              "      <td>8.9</td>\n",
              "    </tr>\n",
              "    <tr>\n",
              "      <th>4</th>\n",
              "      <td>D00005</td>\n",
              "      <td>Johannesburg</td>\n",
              "      <td>18792</td>\n",
              "      <td>2025-06-29 07:00:00</td>\n",
              "      <td>2025-06-29 20:56:00</td>\n",
              "      <td>Delivered</td>\n",
              "      <td>0</td>\n",
              "      <td>MegaHaul</td>\n",
              "      <td>960</td>\n",
              "      <td>6.5</td>\n",
              "    </tr>\n",
              "    <tr>\n",
              "      <th>...</th>\n",
              "      <td>...</td>\n",
              "      <td>...</td>\n",
              "      <td>...</td>\n",
              "      <td>...</td>\n",
              "      <td>...</td>\n",
              "      <td>...</td>\n",
              "      <td>...</td>\n",
              "      <td>...</td>\n",
              "      <td>...</td>\n",
              "      <td>...</td>\n",
              "    </tr>\n",
              "    <tr>\n",
              "      <th>245</th>\n",
              "      <td>D00246</td>\n",
              "      <td>Bloemfontein</td>\n",
              "      <td>13537</td>\n",
              "      <td>2025-05-02 10:00:00</td>\n",
              "      <td>2025-05-02 19:01:00</td>\n",
              "      <td>Delivered</td>\n",
              "      <td>19</td>\n",
              "      <td>SwiftX</td>\n",
              "      <td>1435</td>\n",
              "      <td>42.1</td>\n",
              "    </tr>\n",
              "    <tr>\n",
              "      <th>246</th>\n",
              "      <td>D00247</td>\n",
              "      <td>Pretoria</td>\n",
              "      <td>11724</td>\n",
              "      <td>2025-06-02 13:00:00</td>\n",
              "      <td>2025-06-02 23:15:00</td>\n",
              "      <td>Delivered</td>\n",
              "      <td>41</td>\n",
              "      <td>SkyDrop</td>\n",
              "      <td>23</td>\n",
              "      <td>8.0</td>\n",
              "    </tr>\n",
              "    <tr>\n",
              "      <th>247</th>\n",
              "      <td>D00248</td>\n",
              "      <td>Johannesburg</td>\n",
              "      <td>19496</td>\n",
              "      <td>2025-06-06 13:00:00</td>\n",
              "      <td>2025-06-06 20:01:00</td>\n",
              "      <td>Delivered</td>\n",
              "      <td>0</td>\n",
              "      <td>MegaHaul</td>\n",
              "      <td>133</td>\n",
              "      <td>37.2</td>\n",
              "    </tr>\n",
              "    <tr>\n",
              "      <th>248</th>\n",
              "      <td>D00249</td>\n",
              "      <td>Gqeberha</td>\n",
              "      <td>15343</td>\n",
              "      <td>2025-06-11 07:00:00</td>\n",
              "      <td>2025-06-11 15:52:00</td>\n",
              "      <td>Delivered</td>\n",
              "      <td>0</td>\n",
              "      <td>MegaHaul</td>\n",
              "      <td>306</td>\n",
              "      <td>31.0</td>\n",
              "    </tr>\n",
              "    <tr>\n",
              "      <th>249</th>\n",
              "      <td>D00250</td>\n",
              "      <td>Johannesburg</td>\n",
              "      <td>12159</td>\n",
              "      <td>2025-05-13 14:00:00</td>\n",
              "      <td>2025-05-13 23:48:00</td>\n",
              "      <td>Delivered</td>\n",
              "      <td>29</td>\n",
              "      <td>SwiftX</td>\n",
              "      <td>1040</td>\n",
              "      <td>37.4</td>\n",
              "    </tr>\n",
              "  </tbody>\n",
              "</table>\n",
              "<p>250 rows × 10 columns</p>\n",
              "</div>\n",
              "    <div class=\"colab-df-buttons\">\n",
              "\n",
              "  <div class=\"colab-df-container\">\n",
              "    <button class=\"colab-df-convert\" onclick=\"convertToInteractive('df-9cb9345b-7d39-48a1-928a-f3bcc8dfe4b2')\"\n",
              "            title=\"Convert this dataframe to an interactive table.\"\n",
              "            style=\"display:none;\">\n",
              "\n",
              "  <svg xmlns=\"http://www.w3.org/2000/svg\" height=\"24px\" viewBox=\"0 -960 960 960\">\n",
              "    <path d=\"M120-120v-720h720v720H120Zm60-500h600v-160H180v160Zm220 220h160v-160H400v160Zm0 220h160v-160H400v160ZM180-400h160v-160H180v160Zm440 0h160v-160H620v160ZM180-180h160v-160H180v160Zm440 0h160v-160H620v160Z\"/>\n",
              "  </svg>\n",
              "    </button>\n",
              "\n",
              "  <style>\n",
              "    .colab-df-container {\n",
              "      display:flex;\n",
              "      gap: 12px;\n",
              "    }\n",
              "\n",
              "    .colab-df-convert {\n",
              "      background-color: #E8F0FE;\n",
              "      border: none;\n",
              "      border-radius: 50%;\n",
              "      cursor: pointer;\n",
              "      display: none;\n",
              "      fill: #1967D2;\n",
              "      height: 32px;\n",
              "      padding: 0 0 0 0;\n",
              "      width: 32px;\n",
              "    }\n",
              "\n",
              "    .colab-df-convert:hover {\n",
              "      background-color: #E2EBFA;\n",
              "      box-shadow: 0px 1px 2px rgba(60, 64, 67, 0.3), 0px 1px 3px 1px rgba(60, 64, 67, 0.15);\n",
              "      fill: #174EA6;\n",
              "    }\n",
              "\n",
              "    .colab-df-buttons div {\n",
              "      margin-bottom: 4px;\n",
              "    }\n",
              "\n",
              "    [theme=dark] .colab-df-convert {\n",
              "      background-color: #3B4455;\n",
              "      fill: #D2E3FC;\n",
              "    }\n",
              "\n",
              "    [theme=dark] .colab-df-convert:hover {\n",
              "      background-color: #434B5C;\n",
              "      box-shadow: 0px 1px 3px 1px rgba(0, 0, 0, 0.15);\n",
              "      filter: drop-shadow(0px 1px 2px rgba(0, 0, 0, 0.3));\n",
              "      fill: #FFFFFF;\n",
              "    }\n",
              "  </style>\n",
              "\n",
              "    <script>\n",
              "      const buttonEl =\n",
              "        document.querySelector('#df-9cb9345b-7d39-48a1-928a-f3bcc8dfe4b2 button.colab-df-convert');\n",
              "      buttonEl.style.display =\n",
              "        google.colab.kernel.accessAllowed ? 'block' : 'none';\n",
              "\n",
              "      async function convertToInteractive(key) {\n",
              "        const element = document.querySelector('#df-9cb9345b-7d39-48a1-928a-f3bcc8dfe4b2');\n",
              "        const dataTable =\n",
              "          await google.colab.kernel.invokeFunction('convertToInteractive',\n",
              "                                                    [key], {});\n",
              "        if (!dataTable) return;\n",
              "\n",
              "        const docLinkHtml = 'Like what you see? Visit the ' +\n",
              "          '<a target=\"_blank\" href=https://colab.research.google.com/notebooks/data_table.ipynb>data table notebook</a>'\n",
              "          + ' to learn more about interactive tables.';\n",
              "        element.innerHTML = '';\n",
              "        dataTable['output_type'] = 'display_data';\n",
              "        await google.colab.output.renderOutput(dataTable, element);\n",
              "        const docLink = document.createElement('div');\n",
              "        docLink.innerHTML = docLinkHtml;\n",
              "        element.appendChild(docLink);\n",
              "      }\n",
              "    </script>\n",
              "  </div>\n",
              "\n",
              "\n",
              "    <div id=\"df-59a632bb-0add-4416-99fe-d86f19714ae6\">\n",
              "      <button class=\"colab-df-quickchart\" onclick=\"quickchart('df-59a632bb-0add-4416-99fe-d86f19714ae6')\"\n",
              "                title=\"Suggest charts\"\n",
              "                style=\"display:none;\">\n",
              "\n",
              "<svg xmlns=\"http://www.w3.org/2000/svg\" height=\"24px\"viewBox=\"0 0 24 24\"\n",
              "     width=\"24px\">\n",
              "    <g>\n",
              "        <path d=\"M19 3H5c-1.1 0-2 .9-2 2v14c0 1.1.9 2 2 2h14c1.1 0 2-.9 2-2V5c0-1.1-.9-2-2-2zM9 17H7v-7h2v7zm4 0h-2V7h2v10zm4 0h-2v-4h2v4z\"/>\n",
              "    </g>\n",
              "</svg>\n",
              "      </button>\n",
              "\n",
              "<style>\n",
              "  .colab-df-quickchart {\n",
              "      --bg-color: #E8F0FE;\n",
              "      --fill-color: #1967D2;\n",
              "      --hover-bg-color: #E2EBFA;\n",
              "      --hover-fill-color: #174EA6;\n",
              "      --disabled-fill-color: #AAA;\n",
              "      --disabled-bg-color: #DDD;\n",
              "  }\n",
              "\n",
              "  [theme=dark] .colab-df-quickchart {\n",
              "      --bg-color: #3B4455;\n",
              "      --fill-color: #D2E3FC;\n",
              "      --hover-bg-color: #434B5C;\n",
              "      --hover-fill-color: #FFFFFF;\n",
              "      --disabled-bg-color: #3B4455;\n",
              "      --disabled-fill-color: #666;\n",
              "  }\n",
              "\n",
              "  .colab-df-quickchart {\n",
              "    background-color: var(--bg-color);\n",
              "    border: none;\n",
              "    border-radius: 50%;\n",
              "    cursor: pointer;\n",
              "    display: none;\n",
              "    fill: var(--fill-color);\n",
              "    height: 32px;\n",
              "    padding: 0;\n",
              "    width: 32px;\n",
              "  }\n",
              "\n",
              "  .colab-df-quickchart:hover {\n",
              "    background-color: var(--hover-bg-color);\n",
              "    box-shadow: 0 1px 2px rgba(60, 64, 67, 0.3), 0 1px 3px 1px rgba(60, 64, 67, 0.15);\n",
              "    fill: var(--button-hover-fill-color);\n",
              "  }\n",
              "\n",
              "  .colab-df-quickchart-complete:disabled,\n",
              "  .colab-df-quickchart-complete:disabled:hover {\n",
              "    background-color: var(--disabled-bg-color);\n",
              "    fill: var(--disabled-fill-color);\n",
              "    box-shadow: none;\n",
              "  }\n",
              "\n",
              "  .colab-df-spinner {\n",
              "    border: 2px solid var(--fill-color);\n",
              "    border-color: transparent;\n",
              "    border-bottom-color: var(--fill-color);\n",
              "    animation:\n",
              "      spin 1s steps(1) infinite;\n",
              "  }\n",
              "\n",
              "  @keyframes spin {\n",
              "    0% {\n",
              "      border-color: transparent;\n",
              "      border-bottom-color: var(--fill-color);\n",
              "      border-left-color: var(--fill-color);\n",
              "    }\n",
              "    20% {\n",
              "      border-color: transparent;\n",
              "      border-left-color: var(--fill-color);\n",
              "      border-top-color: var(--fill-color);\n",
              "    }\n",
              "    30% {\n",
              "      border-color: transparent;\n",
              "      border-left-color: var(--fill-color);\n",
              "      border-top-color: var(--fill-color);\n",
              "      border-right-color: var(--fill-color);\n",
              "    }\n",
              "    40% {\n",
              "      border-color: transparent;\n",
              "      border-right-color: var(--fill-color);\n",
              "      border-top-color: var(--fill-color);\n",
              "    }\n",
              "    60% {\n",
              "      border-color: transparent;\n",
              "      border-right-color: var(--fill-color);\n",
              "    }\n",
              "    80% {\n",
              "      border-color: transparent;\n",
              "      border-right-color: var(--fill-color);\n",
              "      border-bottom-color: var(--fill-color);\n",
              "    }\n",
              "    90% {\n",
              "      border-color: transparent;\n",
              "      border-bottom-color: var(--fill-color);\n",
              "    }\n",
              "  }\n",
              "</style>\n",
              "\n",
              "      <script>\n",
              "        async function quickchart(key) {\n",
              "          const quickchartButtonEl =\n",
              "            document.querySelector('#' + key + ' button');\n",
              "          quickchartButtonEl.disabled = true;  // To prevent multiple clicks.\n",
              "          quickchartButtonEl.classList.add('colab-df-spinner');\n",
              "          try {\n",
              "            const charts = await google.colab.kernel.invokeFunction(\n",
              "                'suggestCharts', [key], {});\n",
              "          } catch (error) {\n",
              "            console.error('Error during call to suggestCharts:', error);\n",
              "          }\n",
              "          quickchartButtonEl.classList.remove('colab-df-spinner');\n",
              "          quickchartButtonEl.classList.add('colab-df-quickchart-complete');\n",
              "        }\n",
              "        (() => {\n",
              "          let quickchartButtonEl =\n",
              "            document.querySelector('#df-59a632bb-0add-4416-99fe-d86f19714ae6 button');\n",
              "          quickchartButtonEl.style.display =\n",
              "            google.colab.kernel.accessAllowed ? 'block' : 'none';\n",
              "        })();\n",
              "      </script>\n",
              "    </div>\n",
              "\n",
              "    </div>\n",
              "  </div>\n"
            ],
            "application/vnd.google.colaboratory.intrinsic+json": {
              "type": "dataframe",
              "summary": "{\n  \"name\": \"pd\",\n  \"rows\": 250,\n  \"fields\": [\n    {\n      \"column\": \"delivery_id\",\n      \"properties\": {\n        \"dtype\": \"string\",\n        \"num_unique_values\": 250,\n        \"samples\": [\n          \"D00143\",\n          \"D00007\",\n          \"D00098\"\n        ],\n        \"semantic_type\": \"\",\n        \"description\": \"\"\n      }\n    },\n    {\n      \"column\": \"city\",\n      \"properties\": {\n        \"dtype\": \"category\",\n        \"num_unique_values\": 6,\n        \"samples\": [\n          \"Cape Town\",\n          \"Bloemfontein\",\n          \"Gqeberha\"\n        ],\n        \"semantic_type\": \"\",\n        \"description\": \"\"\n      }\n    },\n    {\n      \"column\": \"customer_id\",\n      \"properties\": {\n        \"dtype\": \"number\",\n        \"std\": 2840,\n        \"min\": 10009,\n        \"max\": 19986,\n        \"num_unique_values\": 244,\n        \"samples\": [\n          10262,\n          16873,\n          11040\n        ],\n        \"semantic_type\": \"\",\n        \"description\": \"\"\n      }\n    },\n    {\n      \"column\": \"scheduled_datetime\",\n      \"properties\": {\n        \"dtype\": \"object\",\n        \"num_unique_values\": 212,\n        \"samples\": [\n          \"2025-05-06 08:00:00\",\n          \"2025-05-26 13:00:00\",\n          \"2025-06-08 07:00:00\"\n        ],\n        \"semantic_type\": \"\",\n        \"description\": \"\"\n      }\n    },\n    {\n      \"column\": \"delivered_datetime\",\n      \"properties\": {\n        \"dtype\": \"object\",\n        \"num_unique_values\": 249,\n        \"samples\": [\n          \"2025-05-23 04:01:00\",\n          \"2025-06-13 11:21:00\",\n          \"2025-05-15 01:42:00\"\n        ],\n        \"semantic_type\": \"\",\n        \"description\": \"\"\n      }\n    },\n    {\n      \"column\": \"status\",\n      \"properties\": {\n        \"dtype\": \"category\",\n        \"num_unique_values\": 1,\n        \"samples\": [\n          \"Delivered\"\n        ],\n        \"semantic_type\": \"\",\n        \"description\": \"\"\n      }\n    },\n    {\n      \"column\": \"delay_minutes\",\n      \"properties\": {\n        \"dtype\": \"number\",\n        \"std\": 23,\n        \"min\": 0,\n        \"max\": 125,\n        \"num_unique_values\": 54,\n        \"samples\": [\n          25\n        ],\n        \"semantic_type\": \"\",\n        \"description\": \"\"\n      }\n    },\n    {\n      \"column\": \"carrier\",\n      \"properties\": {\n        \"dtype\": \"category\",\n        \"num_unique_values\": 4,\n        \"samples\": [\n          \"MegaHaul\"\n        ],\n        \"semantic_type\": \"\",\n        \"description\": \"\"\n      }\n    },\n    {\n      \"column\": \"distance_km\",\n      \"properties\": {\n        \"dtype\": \"number\",\n        \"std\": 440,\n        \"min\": 6,\n        \"max\": 1478,\n        \"num_unique_values\": 228,\n        \"samples\": [\n          806\n        ],\n        \"semantic_type\": \"\",\n        \"description\": \"\"\n      }\n    },\n    {\n      \"column\": \"weight_kg\",\n      \"properties\": {\n        \"dtype\": \"number\",\n        \"std\": 14.378291250253225,\n        \"min\": 1.3,\n        \"max\": 49.9,\n        \"num_unique_values\": 205,\n        \"samples\": [\n          16.6\n        ],\n        \"semantic_type\": \"\",\n        \"description\": \"\"\n      }\n    }\n  ]\n}"
            }
          },
          "metadata": {},
          "execution_count": 26
        }
      ]
    },
    {
      "cell_type": "code",
      "source": [
        "df = pd.read_sql(\"\"\"\n",
        "SELECT * from Deliveries\n",
        "\n",
        "\"\"\", conn)\n",
        "\n",
        "df.head()"
      ],
      "metadata": {
        "colab": {
          "base_uri": "https://localhost:8080/",
          "height": 206
        },
        "id": "8pJu-BnkBgXq",
        "outputId": "bb343a2c-682c-48bd-f829-47de294d7e1b"
      },
      "execution_count": 28,
      "outputs": [
        {
          "output_type": "execute_result",
          "data": {
            "text/plain": [
              "  delivery_id          city  customer_id   scheduled_datetime  \\\n",
              "0      D00001     Cape Town        15390  2025-06-12 13:00:00   \n",
              "1      D00002  Bloemfontein        16949  2025-05-02 17:00:00   \n",
              "2      D00003     Cape Town        18666  2025-06-28 15:00:00   \n",
              "3      D00004        Durban        17734  2025-06-21 14:00:00   \n",
              "4      D00005  Johannesburg        18792  2025-06-29 07:00:00   \n",
              "\n",
              "    delivered_datetime     status  delay_minutes   carrier  distance_km  \\\n",
              "0  2025-06-13 07:55:00  Delivered             31    SwiftX          135   \n",
              "1  2025-05-02 22:36:00  Delivered              0  MegaHaul         1342   \n",
              "2  2025-06-29 04:39:00  Delivered             60    SwiftX          194   \n",
              "3  2025-06-22 10:14:00  Delivered              0  MegaHaul          651   \n",
              "4  2025-06-29 20:56:00  Delivered              0  MegaHaul          960   \n",
              "\n",
              "   weight_kg  \n",
              "0        1.5  \n",
              "1       26.5  \n",
              "2        5.0  \n",
              "3        8.9  \n",
              "4        6.5  "
            ],
            "text/html": [
              "\n",
              "  <div id=\"df-e32fc169-4f9f-4389-92c0-34ea2a57b713\" class=\"colab-df-container\">\n",
              "    <div>\n",
              "<style scoped>\n",
              "    .dataframe tbody tr th:only-of-type {\n",
              "        vertical-align: middle;\n",
              "    }\n",
              "\n",
              "    .dataframe tbody tr th {\n",
              "        vertical-align: top;\n",
              "    }\n",
              "\n",
              "    .dataframe thead th {\n",
              "        text-align: right;\n",
              "    }\n",
              "</style>\n",
              "<table border=\"1\" class=\"dataframe\">\n",
              "  <thead>\n",
              "    <tr style=\"text-align: right;\">\n",
              "      <th></th>\n",
              "      <th>delivery_id</th>\n",
              "      <th>city</th>\n",
              "      <th>customer_id</th>\n",
              "      <th>scheduled_datetime</th>\n",
              "      <th>delivered_datetime</th>\n",
              "      <th>status</th>\n",
              "      <th>delay_minutes</th>\n",
              "      <th>carrier</th>\n",
              "      <th>distance_km</th>\n",
              "      <th>weight_kg</th>\n",
              "    </tr>\n",
              "  </thead>\n",
              "  <tbody>\n",
              "    <tr>\n",
              "      <th>0</th>\n",
              "      <td>D00001</td>\n",
              "      <td>Cape Town</td>\n",
              "      <td>15390</td>\n",
              "      <td>2025-06-12 13:00:00</td>\n",
              "      <td>2025-06-13 07:55:00</td>\n",
              "      <td>Delivered</td>\n",
              "      <td>31</td>\n",
              "      <td>SwiftX</td>\n",
              "      <td>135</td>\n",
              "      <td>1.5</td>\n",
              "    </tr>\n",
              "    <tr>\n",
              "      <th>1</th>\n",
              "      <td>D00002</td>\n",
              "      <td>Bloemfontein</td>\n",
              "      <td>16949</td>\n",
              "      <td>2025-05-02 17:00:00</td>\n",
              "      <td>2025-05-02 22:36:00</td>\n",
              "      <td>Delivered</td>\n",
              "      <td>0</td>\n",
              "      <td>MegaHaul</td>\n",
              "      <td>1342</td>\n",
              "      <td>26.5</td>\n",
              "    </tr>\n",
              "    <tr>\n",
              "      <th>2</th>\n",
              "      <td>D00003</td>\n",
              "      <td>Cape Town</td>\n",
              "      <td>18666</td>\n",
              "      <td>2025-06-28 15:00:00</td>\n",
              "      <td>2025-06-29 04:39:00</td>\n",
              "      <td>Delivered</td>\n",
              "      <td>60</td>\n",
              "      <td>SwiftX</td>\n",
              "      <td>194</td>\n",
              "      <td>5.0</td>\n",
              "    </tr>\n",
              "    <tr>\n",
              "      <th>3</th>\n",
              "      <td>D00004</td>\n",
              "      <td>Durban</td>\n",
              "      <td>17734</td>\n",
              "      <td>2025-06-21 14:00:00</td>\n",
              "      <td>2025-06-22 10:14:00</td>\n",
              "      <td>Delivered</td>\n",
              "      <td>0</td>\n",
              "      <td>MegaHaul</td>\n",
              "      <td>651</td>\n",
              "      <td>8.9</td>\n",
              "    </tr>\n",
              "    <tr>\n",
              "      <th>4</th>\n",
              "      <td>D00005</td>\n",
              "      <td>Johannesburg</td>\n",
              "      <td>18792</td>\n",
              "      <td>2025-06-29 07:00:00</td>\n",
              "      <td>2025-06-29 20:56:00</td>\n",
              "      <td>Delivered</td>\n",
              "      <td>0</td>\n",
              "      <td>MegaHaul</td>\n",
              "      <td>960</td>\n",
              "      <td>6.5</td>\n",
              "    </tr>\n",
              "  </tbody>\n",
              "</table>\n",
              "</div>\n",
              "    <div class=\"colab-df-buttons\">\n",
              "\n",
              "  <div class=\"colab-df-container\">\n",
              "    <button class=\"colab-df-convert\" onclick=\"convertToInteractive('df-e32fc169-4f9f-4389-92c0-34ea2a57b713')\"\n",
              "            title=\"Convert this dataframe to an interactive table.\"\n",
              "            style=\"display:none;\">\n",
              "\n",
              "  <svg xmlns=\"http://www.w3.org/2000/svg\" height=\"24px\" viewBox=\"0 -960 960 960\">\n",
              "    <path d=\"M120-120v-720h720v720H120Zm60-500h600v-160H180v160Zm220 220h160v-160H400v160Zm0 220h160v-160H400v160ZM180-400h160v-160H180v160Zm440 0h160v-160H620v160ZM180-180h160v-160H180v160Zm440 0h160v-160H620v160Z\"/>\n",
              "  </svg>\n",
              "    </button>\n",
              "\n",
              "  <style>\n",
              "    .colab-df-container {\n",
              "      display:flex;\n",
              "      gap: 12px;\n",
              "    }\n",
              "\n",
              "    .colab-df-convert {\n",
              "      background-color: #E8F0FE;\n",
              "      border: none;\n",
              "      border-radius: 50%;\n",
              "      cursor: pointer;\n",
              "      display: none;\n",
              "      fill: #1967D2;\n",
              "      height: 32px;\n",
              "      padding: 0 0 0 0;\n",
              "      width: 32px;\n",
              "    }\n",
              "\n",
              "    .colab-df-convert:hover {\n",
              "      background-color: #E2EBFA;\n",
              "      box-shadow: 0px 1px 2px rgba(60, 64, 67, 0.3), 0px 1px 3px 1px rgba(60, 64, 67, 0.15);\n",
              "      fill: #174EA6;\n",
              "    }\n",
              "\n",
              "    .colab-df-buttons div {\n",
              "      margin-bottom: 4px;\n",
              "    }\n",
              "\n",
              "    [theme=dark] .colab-df-convert {\n",
              "      background-color: #3B4455;\n",
              "      fill: #D2E3FC;\n",
              "    }\n",
              "\n",
              "    [theme=dark] .colab-df-convert:hover {\n",
              "      background-color: #434B5C;\n",
              "      box-shadow: 0px 1px 3px 1px rgba(0, 0, 0, 0.15);\n",
              "      filter: drop-shadow(0px 1px 2px rgba(0, 0, 0, 0.3));\n",
              "      fill: #FFFFFF;\n",
              "    }\n",
              "  </style>\n",
              "\n",
              "    <script>\n",
              "      const buttonEl =\n",
              "        document.querySelector('#df-e32fc169-4f9f-4389-92c0-34ea2a57b713 button.colab-df-convert');\n",
              "      buttonEl.style.display =\n",
              "        google.colab.kernel.accessAllowed ? 'block' : 'none';\n",
              "\n",
              "      async function convertToInteractive(key) {\n",
              "        const element = document.querySelector('#df-e32fc169-4f9f-4389-92c0-34ea2a57b713');\n",
              "        const dataTable =\n",
              "          await google.colab.kernel.invokeFunction('convertToInteractive',\n",
              "                                                    [key], {});\n",
              "        if (!dataTable) return;\n",
              "\n",
              "        const docLinkHtml = 'Like what you see? Visit the ' +\n",
              "          '<a target=\"_blank\" href=https://colab.research.google.com/notebooks/data_table.ipynb>data table notebook</a>'\n",
              "          + ' to learn more about interactive tables.';\n",
              "        element.innerHTML = '';\n",
              "        dataTable['output_type'] = 'display_data';\n",
              "        await google.colab.output.renderOutput(dataTable, element);\n",
              "        const docLink = document.createElement('div');\n",
              "        docLink.innerHTML = docLinkHtml;\n",
              "        element.appendChild(docLink);\n",
              "      }\n",
              "    </script>\n",
              "  </div>\n",
              "\n",
              "\n",
              "    <div id=\"df-b5d7503b-28f3-41c9-80c2-b2903f21f906\">\n",
              "      <button class=\"colab-df-quickchart\" onclick=\"quickchart('df-b5d7503b-28f3-41c9-80c2-b2903f21f906')\"\n",
              "                title=\"Suggest charts\"\n",
              "                style=\"display:none;\">\n",
              "\n",
              "<svg xmlns=\"http://www.w3.org/2000/svg\" height=\"24px\"viewBox=\"0 0 24 24\"\n",
              "     width=\"24px\">\n",
              "    <g>\n",
              "        <path d=\"M19 3H5c-1.1 0-2 .9-2 2v14c0 1.1.9 2 2 2h14c1.1 0 2-.9 2-2V5c0-1.1-.9-2-2-2zM9 17H7v-7h2v7zm4 0h-2V7h2v10zm4 0h-2v-4h2v4z\"/>\n",
              "    </g>\n",
              "</svg>\n",
              "      </button>\n",
              "\n",
              "<style>\n",
              "  .colab-df-quickchart {\n",
              "      --bg-color: #E8F0FE;\n",
              "      --fill-color: #1967D2;\n",
              "      --hover-bg-color: #E2EBFA;\n",
              "      --hover-fill-color: #174EA6;\n",
              "      --disabled-fill-color: #AAA;\n",
              "      --disabled-bg-color: #DDD;\n",
              "  }\n",
              "\n",
              "  [theme=dark] .colab-df-quickchart {\n",
              "      --bg-color: #3B4455;\n",
              "      --fill-color: #D2E3FC;\n",
              "      --hover-bg-color: #434B5C;\n",
              "      --hover-fill-color: #FFFFFF;\n",
              "      --disabled-bg-color: #3B4455;\n",
              "      --disabled-fill-color: #666;\n",
              "  }\n",
              "\n",
              "  .colab-df-quickchart {\n",
              "    background-color: var(--bg-color);\n",
              "    border: none;\n",
              "    border-radius: 50%;\n",
              "    cursor: pointer;\n",
              "    display: none;\n",
              "    fill: var(--fill-color);\n",
              "    height: 32px;\n",
              "    padding: 0;\n",
              "    width: 32px;\n",
              "  }\n",
              "\n",
              "  .colab-df-quickchart:hover {\n",
              "    background-color: var(--hover-bg-color);\n",
              "    box-shadow: 0 1px 2px rgba(60, 64, 67, 0.3), 0 1px 3px 1px rgba(60, 64, 67, 0.15);\n",
              "    fill: var(--button-hover-fill-color);\n",
              "  }\n",
              "\n",
              "  .colab-df-quickchart-complete:disabled,\n",
              "  .colab-df-quickchart-complete:disabled:hover {\n",
              "    background-color: var(--disabled-bg-color);\n",
              "    fill: var(--disabled-fill-color);\n",
              "    box-shadow: none;\n",
              "  }\n",
              "\n",
              "  .colab-df-spinner {\n",
              "    border: 2px solid var(--fill-color);\n",
              "    border-color: transparent;\n",
              "    border-bottom-color: var(--fill-color);\n",
              "    animation:\n",
              "      spin 1s steps(1) infinite;\n",
              "  }\n",
              "\n",
              "  @keyframes spin {\n",
              "    0% {\n",
              "      border-color: transparent;\n",
              "      border-bottom-color: var(--fill-color);\n",
              "      border-left-color: var(--fill-color);\n",
              "    }\n",
              "    20% {\n",
              "      border-color: transparent;\n",
              "      border-left-color: var(--fill-color);\n",
              "      border-top-color: var(--fill-color);\n",
              "    }\n",
              "    30% {\n",
              "      border-color: transparent;\n",
              "      border-left-color: var(--fill-color);\n",
              "      border-top-color: var(--fill-color);\n",
              "      border-right-color: var(--fill-color);\n",
              "    }\n",
              "    40% {\n",
              "      border-color: transparent;\n",
              "      border-right-color: var(--fill-color);\n",
              "      border-top-color: var(--fill-color);\n",
              "    }\n",
              "    60% {\n",
              "      border-color: transparent;\n",
              "      border-right-color: var(--fill-color);\n",
              "    }\n",
              "    80% {\n",
              "      border-color: transparent;\n",
              "      border-right-color: var(--fill-color);\n",
              "      border-bottom-color: var(--fill-color);\n",
              "    }\n",
              "    90% {\n",
              "      border-color: transparent;\n",
              "      border-bottom-color: var(--fill-color);\n",
              "    }\n",
              "  }\n",
              "</style>\n",
              "\n",
              "      <script>\n",
              "        async function quickchart(key) {\n",
              "          const quickchartButtonEl =\n",
              "            document.querySelector('#' + key + ' button');\n",
              "          quickchartButtonEl.disabled = true;  // To prevent multiple clicks.\n",
              "          quickchartButtonEl.classList.add('colab-df-spinner');\n",
              "          try {\n",
              "            const charts = await google.colab.kernel.invokeFunction(\n",
              "                'suggestCharts', [key], {});\n",
              "          } catch (error) {\n",
              "            console.error('Error during call to suggestCharts:', error);\n",
              "          }\n",
              "          quickchartButtonEl.classList.remove('colab-df-spinner');\n",
              "          quickchartButtonEl.classList.add('colab-df-quickchart-complete');\n",
              "        }\n",
              "        (() => {\n",
              "          let quickchartButtonEl =\n",
              "            document.querySelector('#df-b5d7503b-28f3-41c9-80c2-b2903f21f906 button');\n",
              "          quickchartButtonEl.style.display =\n",
              "            google.colab.kernel.accessAllowed ? 'block' : 'none';\n",
              "        })();\n",
              "      </script>\n",
              "    </div>\n",
              "\n",
              "    </div>\n",
              "  </div>\n"
            ],
            "application/vnd.google.colaboratory.intrinsic+json": {
              "type": "dataframe",
              "variable_name": "df",
              "summary": "{\n  \"name\": \"df\",\n  \"rows\": 250,\n  \"fields\": [\n    {\n      \"column\": \"delivery_id\",\n      \"properties\": {\n        \"dtype\": \"string\",\n        \"num_unique_values\": 250,\n        \"samples\": [\n          \"D00143\",\n          \"D00007\",\n          \"D00098\"\n        ],\n        \"semantic_type\": \"\",\n        \"description\": \"\"\n      }\n    },\n    {\n      \"column\": \"city\",\n      \"properties\": {\n        \"dtype\": \"category\",\n        \"num_unique_values\": 6,\n        \"samples\": [\n          \"Cape Town\",\n          \"Bloemfontein\",\n          \"Gqeberha\"\n        ],\n        \"semantic_type\": \"\",\n        \"description\": \"\"\n      }\n    },\n    {\n      \"column\": \"customer_id\",\n      \"properties\": {\n        \"dtype\": \"number\",\n        \"std\": 2840,\n        \"min\": 10009,\n        \"max\": 19986,\n        \"num_unique_values\": 244,\n        \"samples\": [\n          10262,\n          16873,\n          11040\n        ],\n        \"semantic_type\": \"\",\n        \"description\": \"\"\n      }\n    },\n    {\n      \"column\": \"scheduled_datetime\",\n      \"properties\": {\n        \"dtype\": \"object\",\n        \"num_unique_values\": 212,\n        \"samples\": [\n          \"2025-05-06 08:00:00\",\n          \"2025-05-26 13:00:00\",\n          \"2025-06-08 07:00:00\"\n        ],\n        \"semantic_type\": \"\",\n        \"description\": \"\"\n      }\n    },\n    {\n      \"column\": \"delivered_datetime\",\n      \"properties\": {\n        \"dtype\": \"object\",\n        \"num_unique_values\": 249,\n        \"samples\": [\n          \"2025-05-23 04:01:00\",\n          \"2025-06-13 11:21:00\",\n          \"2025-05-15 01:42:00\"\n        ],\n        \"semantic_type\": \"\",\n        \"description\": \"\"\n      }\n    },\n    {\n      \"column\": \"status\",\n      \"properties\": {\n        \"dtype\": \"category\",\n        \"num_unique_values\": 1,\n        \"samples\": [\n          \"Delivered\"\n        ],\n        \"semantic_type\": \"\",\n        \"description\": \"\"\n      }\n    },\n    {\n      \"column\": \"delay_minutes\",\n      \"properties\": {\n        \"dtype\": \"number\",\n        \"std\": 23,\n        \"min\": 0,\n        \"max\": 125,\n        \"num_unique_values\": 54,\n        \"samples\": [\n          25\n        ],\n        \"semantic_type\": \"\",\n        \"description\": \"\"\n      }\n    },\n    {\n      \"column\": \"carrier\",\n      \"properties\": {\n        \"dtype\": \"category\",\n        \"num_unique_values\": 4,\n        \"samples\": [\n          \"MegaHaul\"\n        ],\n        \"semantic_type\": \"\",\n        \"description\": \"\"\n      }\n    },\n    {\n      \"column\": \"distance_km\",\n      \"properties\": {\n        \"dtype\": \"number\",\n        \"std\": 440,\n        \"min\": 6,\n        \"max\": 1478,\n        \"num_unique_values\": 228,\n        \"samples\": [\n          806\n        ],\n        \"semantic_type\": \"\",\n        \"description\": \"\"\n      }\n    },\n    {\n      \"column\": \"weight_kg\",\n      \"properties\": {\n        \"dtype\": \"number\",\n        \"std\": 14.378291250253225,\n        \"min\": 1.3,\n        \"max\": 49.9,\n        \"num_unique_values\": 205,\n        \"samples\": [\n          16.6\n        ],\n        \"semantic_type\": \"\",\n        \"description\": \"\"\n      }\n    }\n  ]\n}"
            }
          },
          "metadata": {},
          "execution_count": 28
        }
      ]
    },
    {
      "cell_type": "code",
      "source": [
        "# Count missing values\n",
        "df.isnull().sum()"
      ],
      "metadata": {
        "colab": {
          "base_uri": "https://localhost:8080/",
          "height": 397
        },
        "id": "2iL5uPLJBYMe",
        "outputId": "968f4782-e7c9-4dc3-f3ef-2fa91fc4c83f"
      },
      "execution_count": 29,
      "outputs": [
        {
          "output_type": "execute_result",
          "data": {
            "text/plain": [
              "delivery_id           0\n",
              "city                  0\n",
              "customer_id           0\n",
              "scheduled_datetime    0\n",
              "delivered_datetime    0\n",
              "status                0\n",
              "delay_minutes         0\n",
              "carrier               0\n",
              "distance_km           0\n",
              "weight_kg             0\n",
              "dtype: int64"
            ],
            "text/html": [
              "<div>\n",
              "<style scoped>\n",
              "    .dataframe tbody tr th:only-of-type {\n",
              "        vertical-align: middle;\n",
              "    }\n",
              "\n",
              "    .dataframe tbody tr th {\n",
              "        vertical-align: top;\n",
              "    }\n",
              "\n",
              "    .dataframe thead th {\n",
              "        text-align: right;\n",
              "    }\n",
              "</style>\n",
              "<table border=\"1\" class=\"dataframe\">\n",
              "  <thead>\n",
              "    <tr style=\"text-align: right;\">\n",
              "      <th></th>\n",
              "      <th>0</th>\n",
              "    </tr>\n",
              "  </thead>\n",
              "  <tbody>\n",
              "    <tr>\n",
              "      <th>delivery_id</th>\n",
              "      <td>0</td>\n",
              "    </tr>\n",
              "    <tr>\n",
              "      <th>city</th>\n",
              "      <td>0</td>\n",
              "    </tr>\n",
              "    <tr>\n",
              "      <th>customer_id</th>\n",
              "      <td>0</td>\n",
              "    </tr>\n",
              "    <tr>\n",
              "      <th>scheduled_datetime</th>\n",
              "      <td>0</td>\n",
              "    </tr>\n",
              "    <tr>\n",
              "      <th>delivered_datetime</th>\n",
              "      <td>0</td>\n",
              "    </tr>\n",
              "    <tr>\n",
              "      <th>status</th>\n",
              "      <td>0</td>\n",
              "    </tr>\n",
              "    <tr>\n",
              "      <th>delay_minutes</th>\n",
              "      <td>0</td>\n",
              "    </tr>\n",
              "    <tr>\n",
              "      <th>carrier</th>\n",
              "      <td>0</td>\n",
              "    </tr>\n",
              "    <tr>\n",
              "      <th>distance_km</th>\n",
              "      <td>0</td>\n",
              "    </tr>\n",
              "    <tr>\n",
              "      <th>weight_kg</th>\n",
              "      <td>0</td>\n",
              "    </tr>\n",
              "  </tbody>\n",
              "</table>\n",
              "</div><br><label><b>dtype:</b> int64</label>"
            ]
          },
          "metadata": {},
          "execution_count": 29
        }
      ]
    },
    {
      "cell_type": "code",
      "source": [
        "# 2. Fill missing delay_minutes with 0 (assuming no delay if missing)\n",
        "df[\"delay_minutes\"].fillna(0, inplace=True)"
      ],
      "metadata": {
        "colab": {
          "base_uri": "https://localhost:8080/"
        },
        "id": "wYKuGw4lBxRg",
        "outputId": "f61fbff2-4cc7-4f92-e3ab-c80bc37fbd5b"
      },
      "execution_count": 32,
      "outputs": [
        {
          "output_type": "stream",
          "name": "stderr",
          "text": [
            "/tmp/ipython-input-3431635970.py:2: FutureWarning: A value is trying to be set on a copy of a DataFrame or Series through chained assignment using an inplace method.\n",
            "The behavior will change in pandas 3.0. This inplace method will never work because the intermediate object on which we are setting values always behaves as a copy.\n",
            "\n",
            "For example, when doing 'df[col].method(value, inplace=True)', try using 'df.method({col: value}, inplace=True)' or df[col] = df[col].method(value) instead, to perform the operation inplace on the original object.\n",
            "\n",
            "\n",
            "  df[\"delay_minutes\"].fillna(0, inplace=True)\n"
          ]
        }
      ]
    },
    {
      "cell_type": "markdown",
      "source": [],
      "metadata": {
        "id": "RzIA3vuHEfuf"
      }
    },
    {
      "cell_type": "code",
      "source": [
        "# 3. Fill missing weight_kg with the median\n",
        "df[\"weight_kg\"].fillna(df[\"weight_kg\"].median(), inplace=True)"
      ],
      "metadata": {
        "colab": {
          "base_uri": "https://localhost:8080/"
        },
        "id": "3FCEfiLYCvua",
        "outputId": "a08138fe-6e21-4562-df23-e60d6a31f06a"
      },
      "execution_count": 33,
      "outputs": [
        {
          "output_type": "stream",
          "name": "stderr",
          "text": [
            "/tmp/ipython-input-112298893.py:2: FutureWarning: A value is trying to be set on a copy of a DataFrame or Series through chained assignment using an inplace method.\n",
            "The behavior will change in pandas 3.0. This inplace method will never work because the intermediate object on which we are setting values always behaves as a copy.\n",
            "\n",
            "For example, when doing 'df[col].method(value, inplace=True)', try using 'df.method({col: value}, inplace=True)' or df[col] = df[col].method(value) instead, to perform the operation inplace on the original object.\n",
            "\n",
            "\n",
            "  df[\"weight_kg\"].fillna(df[\"weight_kg\"].median(), inplace=True)\n"
          ]
        }
      ]
    },
    {
      "cell_type": "code",
      "source": [
        "\n",
        "# 4. Fill missing distance_km with the mean\n",
        "df[\"distance_km\"].fillna(df[\"distance_km\"].mean(), inplace=True)"
      ],
      "metadata": {
        "colab": {
          "base_uri": "https://localhost:8080/"
        },
        "id": "26n_AVSbCzLm",
        "outputId": "5764b666-78ea-4bf2-eca3-35ca69817024"
      },
      "execution_count": 34,
      "outputs": [
        {
          "output_type": "stream",
          "name": "stderr",
          "text": [
            "/tmp/ipython-input-3172236661.py:2: FutureWarning: A value is trying to be set on a copy of a DataFrame or Series through chained assignment using an inplace method.\n",
            "The behavior will change in pandas 3.0. This inplace method will never work because the intermediate object on which we are setting values always behaves as a copy.\n",
            "\n",
            "For example, when doing 'df[col].method(value, inplace=True)', try using 'df.method({col: value}, inplace=True)' or df[col] = df[col].method(value) instead, to perform the operation inplace on the original object.\n",
            "\n",
            "\n",
            "  df[\"distance_km\"].fillna(df[\"distance_km\"].mean(), inplace=True)\n"
          ]
        }
      ]
    },
    {
      "cell_type": "code",
      "source": [
        "# 5. Drop rows with missing delivery_id (key column — must exist)\n",
        "df.dropna(subset=[\"delivery_id\"], inplace=True)\n"
      ],
      "metadata": {
        "id": "g7SPE5EfC4Sl"
      },
      "execution_count": 35,
      "outputs": []
    },
    {
      "cell_type": "code",
      "source": [
        "# 6. (Optional) Re-check for any missing values\n",
        "print(df.isnull().sum())\n"
      ],
      "metadata": {
        "colab": {
          "base_uri": "https://localhost:8080/"
        },
        "id": "dwO2TBDWC7Sz",
        "outputId": "10f6f284-db20-40a2-8ad1-3b21e1230c25"
      },
      "execution_count": 36,
      "outputs": [
        {
          "output_type": "stream",
          "name": "stdout",
          "text": [
            "delivery_id           0\n",
            "city                  0\n",
            "customer_id           0\n",
            "scheduled_datetime    0\n",
            "delivered_datetime    0\n",
            "status                0\n",
            "delay_minutes         0\n",
            "carrier               0\n",
            "distance_km           0\n",
            "weight_kg             0\n",
            "dtype: int64\n"
          ]
        }
      ]
    },
    {
      "cell_type": "markdown",
      "source": [
        "Here’s a **brief summary** of the SQL queries you can run on your deliveries data:\n",
        "\n",
        "**Total deliveries** – Count all deliveries in the dataset.\n",
        "\n",
        "**Deliveries per city** – See which cities have the most deliveries.\n",
        "\n",
        "**Average delay** – Calculate the mean delivery delay in minutes.\n",
        "\n",
        "**Deliveries by carrier** – Count deliveries handled by each carrier.\n",
        "\n",
        "**Average** distance per city – See how far deliveries typically travel in each city.\n",
        "\n",
        "**Total weight per carrier** – Sum of all packages delivered by each carrier.\n",
        "\n",
        "**Delayed deliveries** – List deliveries with a delay greater than 0 minutes.\n",
        "\n",
        "**Average delivery time** – Calculate average delivery duration in hours.\n",
        "\n",
        "**Longest distance deliveries** – Identify deliveries that cover the greatest distance.\n",
        "\n",
        "**Monthly delivery trends** – Track deliveries per month.\n",
        "\n",
        "**Average weight per city** – Average package weight per city.\n",
        "\n",
        "**Carrier performance** – Average delay by carrier to evaluate efficiency.\n",
        "\n",
        "**These queries give a quick overview of delivery volume, performance, distance, and weight metrics for analysis.**"
      ],
      "metadata": {
        "id": "TK4HESWUEhaN"
      }
    },
    {
      "cell_type": "code",
      "source": [
        "# 1. Total deliveries\n",
        "total_deliveries = pd.read_sql(\"\"\"\n",
        "    SELECT COUNT(*) AS total_deliveries\n",
        "    FROM deliveries\n",
        "\"\"\", conn)\n",
        "print(total_deliveries)\n",
        "\n",
        "# 2. Deliveries per city\n",
        "deliveries_per_city = pd.read_sql(\"\"\"\n",
        "    SELECT city, COUNT(*) AS num_deliveries\n",
        "    FROM deliveries\n",
        "    GROUP BY city\n",
        "    ORDER BY num_deliveries DESC\n",
        "\"\"\", conn)\n",
        "print(deliveries_per_city)\n",
        "\n",
        "# 3. Average delay (minutes)\n",
        "avg_delay = pd.read_sql(\"\"\"\n",
        "    SELECT AVG(delay_minutes) AS avg_delay\n",
        "    FROM deliveries\n",
        "\"\"\", conn)\n",
        "print(avg_delay)\n",
        "\n",
        "# 4. Deliveries by carrier\n",
        "deliveries_by_carrier = pd.read_sql(\"\"\"\n",
        "    SELECT carrier, COUNT(*) AS num_deliveries\n",
        "    FROM deliveries\n",
        "    GROUP BY carrier\n",
        "    ORDER BY num_deliveries DESC\n",
        "\"\"\", conn)\n",
        "print(deliveries_by_carrier)\n",
        "\n",
        "# 5. Average delivery distance per city\n",
        "avg_distance_city = pd.read_sql(\"\"\"\n",
        "    SELECT city, AVG(distance_km) AS avg_distance\n",
        "    FROM deliveries\n",
        "    GROUP BY city\n",
        "    ORDER BY avg_distance DESC\n",
        "\"\"\", conn)\n",
        "print(avg_distance_city)\n",
        "\n",
        "# 6. Total weight delivered per carrier\n",
        "total_weight_carrier = pd.read_sql(\"\"\"\n",
        "    SELECT carrier, SUM(weight_kg) AS total_weight\n",
        "    FROM deliveries\n",
        "    GROUP BY carrier\n",
        "    ORDER BY total_weight DESC\n",
        "\"\"\", conn)\n",
        "print(total_weight_carrier)\n",
        "\n",
        "# 7. Deliveries that were delayed\n",
        "delayed_deliveries = pd.read_sql(\"\"\"\n",
        "    SELECT *\n",
        "    FROM deliveries\n",
        "    WHERE delay_minutes > 0\n",
        "    ORDER BY delay_minutes DESC\n",
        "\"\"\", conn)\n",
        "print(delayed_deliveries)\n",
        "\n",
        "# 8. Average delivery time in hours\n",
        "avg_delivery_hours = pd.read_sql(\"\"\"\n",
        "    SELECT AVG((strftime('%s', delivered_datetime) - strftime('%s', scheduled_datetime)) / 3600.0) AS avg_delivery_hours\n",
        "    FROM deliveries\n",
        "\"\"\", conn)\n",
        "print(avg_delivery_hours)\n",
        "\n",
        "# 9. Top 5 longest distance deliveries\n",
        "longest_deliveries = pd.read_sql(\"\"\"\n",
        "    SELECT *\n",
        "    FROM deliveries\n",
        "    ORDER BY distance_km DESC\n",
        "    LIMIT 5\n",
        "\"\"\", conn)\n",
        "print(longest_deliveries)\n",
        "\n",
        "# 10. Monthly delivery trends\n",
        "monthly_trends = pd.read_sql(\"\"\"\n",
        "    SELECT strftime('%Y-%m', scheduled_datetime) AS month, COUNT(*) AS deliveries_count\n",
        "    FROM deliveries\n",
        "    GROUP BY month\n",
        "    ORDER BY month\n",
        "\"\"\", conn)\n",
        "print(monthly_trends)\n",
        "\n",
        "# 11. Average weight per city\n",
        "avg_weight_city = pd.read_sql(\"\"\"\n",
        "    SELECT city, AVG(weight_kg) AS avg_weight\n",
        "    FROM deliveries\n",
        "    GROUP BY city\n",
        "    ORDER BY avg_weight DESC\n",
        "\"\"\", conn)\n",
        "print(avg_weight_city)\n",
        "\n",
        "# 12. Carrier performance: average delay\n",
        "carrier_performance = pd.read_sql(\"\"\"\n",
        "    SELECT carrier, AVG(delay_minutes) AS avg_delay\n",
        "    FROM deliveries\n",
        "    GROUP BY carrier\n",
        "    ORDER BY avg_delay\n",
        "\"\"\", conn)\n",
        "print(carrier_performance)"
      ],
      "metadata": {
        "colab": {
          "base_uri": "https://localhost:8080/"
        },
        "id": "Cm_IfwMsHg5m",
        "outputId": "fe990aaa-d930-4f27-f261-76e290479486"
      },
      "execution_count": 52,
      "outputs": [
        {
          "output_type": "stream",
          "name": "stdout",
          "text": [
            "   total_deliveries\n",
            "0               250\n",
            "           city  num_deliveries\n",
            "0  Johannesburg              72\n",
            "1     Cape Town              55\n",
            "2        Durban              41\n",
            "3      Pretoria              33\n",
            "4      Gqeberha              30\n",
            "5  Bloemfontein              19\n",
            "   avg_delay\n",
            "0     13.484\n",
            "      carrier  num_deliveries\n",
            "0    MegaHaul              73\n",
            "1      SwiftX              63\n",
            "2     SkyDrop              57\n",
            "3  RoadRunner              57\n",
            "           city  avg_distance\n",
            "0  Bloemfontein    971.421053\n",
            "1        Durban    802.341463\n",
            "2      Gqeberha    798.633333\n",
            "3      Pretoria    787.878788\n",
            "4  Johannesburg    749.388889\n",
            "5     Cape Town    662.072727\n",
            "      carrier  total_weight\n",
            "0    MegaHaul        1910.0\n",
            "1      SwiftX        1649.4\n",
            "2  RoadRunner        1489.0\n",
            "3     SkyDrop        1319.7\n",
            "   delivery_id          city  customer_id   scheduled_datetime  \\\n",
            "0       D00129  Johannesburg        15408  2025-06-27 09:00:00   \n",
            "1       D00136  Johannesburg        11500  2025-05-18 09:00:00   \n",
            "2       D00038  Johannesburg        11148  2025-05-22 15:00:00   \n",
            "3       D00071      Pretoria        14809  2025-05-10 08:00:00   \n",
            "4       D00190  Johannesburg        15238  2025-05-26 16:00:00   \n",
            "..         ...           ...          ...                  ...   \n",
            "85      D00018     Cape Town        15575  2025-05-27 14:00:00   \n",
            "86      D00039     Cape Town        13124  2025-06-29 17:00:00   \n",
            "87      D00016      Pretoria        19789  2025-06-26 10:00:00   \n",
            "88      D00168  Johannesburg        12720  2025-05-10 13:00:00   \n",
            "89      D00233  Johannesburg        10392  2025-06-10 06:00:00   \n",
            "\n",
            "     delivered_datetime     status  delay_minutes     carrier  distance_km  \\\n",
            "0   2025-06-28 00:35:00  Delivered            125    MegaHaul         1272   \n",
            "1   2025-05-19 03:21:00  Delivered            107     SkyDrop         1187   \n",
            "2   2025-05-23 03:09:00  Delivered            100  RoadRunner          686   \n",
            "3   2025-05-11 06:04:00  Delivered             96      SwiftX          461   \n",
            "4   2025-05-26 20:29:00  Delivered             96      SwiftX          307   \n",
            "..                  ...        ...            ...         ...          ...   \n",
            "85  2025-05-27 20:23:00  Delivered              6  RoadRunner         1402   \n",
            "86  2025-06-29 18:08:00  Delivered              4    MegaHaul         1378   \n",
            "87  2025-06-26 21:48:00  Delivered              3    MegaHaul         1359   \n",
            "88  2025-05-10 18:04:00  Delivered              3  RoadRunner            6   \n",
            "89  2025-06-11 02:14:00  Delivered              1    MegaHaul           33   \n",
            "\n",
            "    weight_kg  \n",
            "0         3.0  \n",
            "1        18.6  \n",
            "2        41.2  \n",
            "3         6.9  \n",
            "4        28.7  \n",
            "..        ...  \n",
            "85       11.3  \n",
            "86       27.3  \n",
            "87       16.6  \n",
            "88       26.9  \n",
            "89       14.3  \n",
            "\n",
            "[90 rows x 10 columns]\n",
            "   avg_delivery_hours\n",
            "0           12.695533\n",
            "  delivery_id       city  customer_id   scheduled_datetime  \\\n",
            "0      D00138  Cape Town        15468  2025-05-22 14:00:00   \n",
            "1      D00213     Durban        13874  2025-06-03 12:00:00   \n",
            "2      D00161   Gqeberha        13155  2025-05-22 16:00:00   \n",
            "3      D00043   Pretoria        10580  2025-05-22 12:00:00   \n",
            "4      D00131     Durban        17970  2025-05-03 07:00:00   \n",
            "\n",
            "    delivered_datetime     status  delay_minutes  carrier  distance_km  \\\n",
            "0  2025-05-23 04:01:00  Delivered             60   SwiftX         1478   \n",
            "1  2025-06-03 14:55:00  Delivered              0   SwiftX         1470   \n",
            "2  2025-05-23 07:08:00  Delivered              0  SkyDrop         1468   \n",
            "3  2025-05-23 07:19:00  Delivered              0  SkyDrop         1463   \n",
            "4  2025-05-04 04:52:00  Delivered              0   SwiftX         1463   \n",
            "\n",
            "   weight_kg  \n",
            "0        1.7  \n",
            "1       47.9  \n",
            "2       21.9  \n",
            "3       38.0  \n",
            "4       14.0  \n",
            "     month  deliveries_count\n",
            "0  2025-05               109\n",
            "1  2025-06               141\n",
            "           city  avg_weight\n",
            "0        Durban   28.846341\n",
            "1      Pretoria   26.721212\n",
            "2     Cape Town   25.620000\n",
            "3  Johannesburg   24.952778\n",
            "4      Gqeberha   23.593333\n",
            "5  Bloemfontein   20.531579\n",
            "      carrier  avg_delay\n",
            "0  RoadRunner  10.736842\n",
            "1     SkyDrop  11.666667\n",
            "2      SwiftX  14.952381\n",
            "3    MegaHaul  15.780822\n"
          ]
        }
      ]
    },
    {
      "cell_type": "markdown",
      "source": [],
      "metadata": {
        "id": "KlAdFL5nIC3r"
      }
    },
    {
      "cell_type": "code",
      "source": [
        "df = pd.read_sql(\"\"\"\n",
        "    SELECT COUNT(*) AS total_deliveries\n",
        "    FROM deliveries\n",
        "\"\"\", conn)\n",
        "\n",
        "print(df)"
      ],
      "metadata": {
        "colab": {
          "base_uri": "https://localhost:8080/"
        },
        "id": "YmU0-ERcFoRm",
        "outputId": "01a11194-aeb1-4ee6-e837-ad8560bf79a6"
      },
      "execution_count": 43,
      "outputs": [
        {
          "output_type": "stream",
          "name": "stdout",
          "text": [
            "   total_deliveries\n",
            "0               250\n"
          ]
        }
      ]
    },
    {
      "cell_type": "code",
      "source": [
        "df = pd.read_sql(\"\"\"\n",
        "SELECT city, COUNT(*) AS num_deliveries\n",
        "FROM deliveries\n",
        "GROUP BY city\n",
        "ORDER BY num_deliveries DESC;\n",
        "\"\"\", conn)\n",
        "\n",
        "print(df)"
      ],
      "metadata": {
        "colab": {
          "base_uri": "https://localhost:8080/"
        },
        "id": "Uj9lKXioGOC3",
        "outputId": "5815cdcc-e7bc-468f-bc67-68f6dc54f97f"
      },
      "execution_count": 45,
      "outputs": [
        {
          "output_type": "stream",
          "name": "stdout",
          "text": [
            "           city  num_deliveries\n",
            "0  Johannesburg              72\n",
            "1     Cape Town              55\n",
            "2        Durban              41\n",
            "3      Pretoria              33\n",
            "4      Gqeberha              30\n",
            "5  Bloemfontein              19\n"
          ]
        }
      ]
    },
    {
      "cell_type": "code",
      "source": [
        "df = pd.read_sql(\"\"\"\n",
        "SELECT AVG(delay_minutes) AS avg_delay\n",
        "FROM deliveries;\n",
        "\"\"\", conn)\n",
        "\n",
        "print(df)"
      ],
      "metadata": {
        "colab": {
          "base_uri": "https://localhost:8080/"
        },
        "id": "n5w3TwKNGfd8",
        "outputId": "500dd42e-9684-44b5-e97f-8409bcd6cec8"
      },
      "execution_count": 46,
      "outputs": [
        {
          "output_type": "stream",
          "name": "stdout",
          "text": [
            "   avg_delay\n",
            "0     13.484\n"
          ]
        }
      ]
    },
    {
      "cell_type": "code",
      "source": [
        "df = pd.read_sql(\"\"\"\n",
        "SELECT carrier, COUNT(*) AS num_deliveries\n",
        "FROM deliveries\n",
        "GROUP BY carrier\n",
        "ORDER BY num_deliveries DESC;\n",
        "\"\"\", conn)\n",
        "\n",
        "print(df)"
      ],
      "metadata": {
        "colab": {
          "base_uri": "https://localhost:8080/"
        },
        "id": "bF0BAb02Go2d",
        "outputId": "cea1b0af-b0bc-4c81-97b1-dcd41812fad3"
      },
      "execution_count": 47,
      "outputs": [
        {
          "output_type": "stream",
          "name": "stdout",
          "text": [
            "      carrier  num_deliveries\n",
            "0    MegaHaul              73\n",
            "1      SwiftX              63\n",
            "2     SkyDrop              57\n",
            "3  RoadRunner              57\n"
          ]
        }
      ]
    },
    {
      "cell_type": "code",
      "source": [
        "df = pd.read_sql(\"\"\"\n",
        "SELECT city, AVG(distance_km) AS avg_distance\n",
        "FROM deliveries\n",
        "GROUP BY city\n",
        "ORDER BY avg_distance DESC;\n",
        "\"\"\", conn)\n",
        "\n",
        "print(df)"
      ],
      "metadata": {
        "colab": {
          "base_uri": "https://localhost:8080/"
        },
        "id": "TiLGD7WOG2tn",
        "outputId": "2f0916cd-4c3d-46ff-fdea-3772e88f309e"
      },
      "execution_count": 48,
      "outputs": [
        {
          "output_type": "stream",
          "name": "stdout",
          "text": [
            "           city  avg_distance\n",
            "0  Bloemfontein    971.421053\n",
            "1        Durban    802.341463\n",
            "2      Gqeberha    798.633333\n",
            "3      Pretoria    787.878788\n",
            "4  Johannesburg    749.388889\n",
            "5     Cape Town    662.072727\n"
          ]
        }
      ]
    },
    {
      "cell_type": "code",
      "source": [
        "\n",
        "df = pd.read_sql(\"\"\"\n",
        "SELECT carrier, SUM(weight_kg) AS total_weight\n",
        "FROM deliveries\n",
        "GROUP BY carrier\n",
        "ORDER BY total_weight DESC;\n",
        "\"\"\", conn)\n",
        "\n",
        "print(df)"
      ],
      "metadata": {
        "colab": {
          "base_uri": "https://localhost:8080/"
        },
        "id": "8YKTyYeOHCD1",
        "outputId": "fda05b4f-d904-45cb-990a-3909558916eb"
      },
      "execution_count": 49,
      "outputs": [
        {
          "output_type": "stream",
          "name": "stdout",
          "text": [
            "      carrier  total_weight\n",
            "0    MegaHaul        1910.0\n",
            "1      SwiftX        1649.4\n",
            "2  RoadRunner        1489.0\n",
            "3     SkyDrop        1319.7\n"
          ]
        }
      ]
    },
    {
      "cell_type": "markdown",
      "source": [
        "**meaningful visualizations using Matplotlib or Seaborn in Python**"
      ],
      "metadata": {
        "id": "sSF6I0goIODv"
      }
    },
    {
      "cell_type": "code",
      "source": [
        "import pandas as pd\n",
        "import matplotlib.pyplot as plt\n",
        "import seaborn as sns\n",
        "\n",
        "# Optional: make plots look nicer\n",
        "sns.set_style(\"whitegrid\")\n",
        "plt.rcParams['figure.figsize'] = (10,6)\n"
      ],
      "metadata": {
        "id": "4itXLO-eIUZ8"
      },
      "execution_count": 55,
      "outputs": []
    },
    {
      "cell_type": "code",
      "source": [
        "deliveries_per_city = pd.read_sql(\"\"\"\n",
        "    SELECT city, COUNT(*) AS num_deliveries\n",
        "    FROM deliveries\n",
        "    GROUP BY city\n",
        "    ORDER BY num_deliveries DESC\n",
        "\"\"\", conn)\n",
        "\n",
        "sns.barplot(x='city', y='num_deliveries', data=deliveries_per_city, palette='viridis')\n",
        "plt.title('Total Deliveries per City')\n",
        "plt.ylabel('Number of Deliveries')\n",
        "plt.xlabel('City')\n",
        "plt.show()\n"
      ],
      "metadata": {
        "colab": {
          "base_uri": "https://localhost:8080/",
          "height": 671
        },
        "id": "wdngFqqJIbCl",
        "outputId": "a959f646-4662-4bf8-b8ec-a264f7f8714f"
      },
      "execution_count": 56,
      "outputs": [
        {
          "output_type": "stream",
          "name": "stderr",
          "text": [
            "/tmp/ipython-input-2247625886.py:8: FutureWarning: \n",
            "\n",
            "Passing `palette` without assigning `hue` is deprecated and will be removed in v0.14.0. Assign the `x` variable to `hue` and set `legend=False` for the same effect.\n",
            "\n",
            "  sns.barplot(x='city', y='num_deliveries', data=deliveries_per_city, palette='viridis')\n"
          ]
        },
        {
          "output_type": "display_data",
          "data": {
            "text/plain": [
              "<Figure size 1000x600 with 1 Axes>"
            ],
            "image/png": "[encoded data removed]"
          },
          "metadata": {}
        }
      ]
    },
    {
      "cell_type": "code",
      "source": [
        "avg_delay_carrier = pd.read_sql(\"\"\"\n",
        "    SELECT carrier, AVG(delay_minutes) AS avg_delay\n",
        "    FROM deliveries\n",
        "    GROUP BY carrier\n",
        "    ORDER BY avg_delay\n",
        "\"\"\", conn)\n",
        "\n",
        "sns.barplot(x='carrier', y='avg_delay', data=avg_delay_carrier, palette='magma')\n",
        "plt.title('Average Delivery Delay per Carrier')\n",
        "plt.ylabel('Average Delay (minutes)')\n",
        "plt.xlabel('Carrier')\n",
        "plt.show()\n"
      ],
      "metadata": {
        "colab": {
          "base_uri": "https://localhost:8080/",
          "height": 671
        },
        "id": "9hZFEj7bIlns",
        "outputId": "9b7dd704-c5ef-485a-84b8-3e2e4559a8e6"
      },
      "execution_count": 57,
      "outputs": [
        {
          "output_type": "stream",
          "name": "stderr",
          "text": [
            "/tmp/ipython-input-346090263.py:8: FutureWarning: \n",
            "\n",
            "Passing `palette` without assigning `hue` is deprecated and will be removed in v0.14.0. Assign the `x` variable to `hue` and set `legend=False` for the same effect.\n",
            "\n",
            "  sns.barplot(x='carrier', y='avg_delay', data=avg_delay_carrier, palette='magma')\n"
          ]
        },
        {
          "output_type": "display_data",
          "data": {
            "text/plain": [
              "<Figure size 1000x600 with 1 Axes>"
            ],
            "image/png": "[encoded data removed]"
          },
          "metadata": {}
        }
      ]
    },
    {
      "cell_type": "code",
      "source": [
        "monthly_trends = pd.read_sql(\"\"\"\n",
        "    SELECT strftime('%Y-%m', scheduled_datetime) AS month, COUNT(*) AS deliveries_count\n",
        "    FROM deliveries\n",
        "    GROUP BY month\n",
        "    ORDER BY month\n",
        "\"\"\", conn)\n",
        "\n",
        "sns.lineplot(x='month', y='deliveries_count', data=monthly_trends, marker='o')\n",
        "plt.title('Monthly Delivery Trends')\n",
        "plt.ylabel('Number of Deliveries')\n",
        "plt.xlabel('Month')\n",
        "plt.xticks(rotation=45)\n",
        "plt.show()"
      ],
      "metadata": {
        "colab": {
          "base_uri": "https://localhost:8080/",
          "height": 601
        },
        "id": "M4PhrGf_IpjR",
        "outputId": "e04fec1c-133a-426a-9593-ab1bc166a19d"
      },
      "execution_count": 60,
      "outputs": [
        {
          "output_type": "display_data",
          "data": {
            "text/plain": [
              "<Figure size 1000x600 with 1 Axes>"
            ],
            "image/png": "[encoded data removed]"
          },
          "metadata": {}
        }
      ]
    },
    {
      "cell_type": "code",
      "source": [
        "longest_deliveries = pd.read_sql(\"\"\"\n",
        "    SELECT delivery_id, distance_km\n",
        "    FROM deliveries\n",
        "    ORDER BY distance_km DESC\n",
        "    LIMIT 5\n",
        "\"\"\", conn)\n",
        "\n",
        "sns.barplot(x='delivery_id', y='distance_km', data=longest_deliveries, palette='coolwarm')\n",
        "plt.title('Top 5 Longest Distance Deliveries')\n",
        "plt.ylabel('Distance (km)')\n",
        "plt.xlabel('Delivery ID')\n",
        "plt.show()\n"
      ],
      "metadata": {
        "colab": {
          "base_uri": "https://localhost:8080/",
          "height": 671
        },
        "id": "1x2DyRKTI7TK",
        "outputId": "737dc84f-85f0-4c35-b2ba-93ee821eda56"
      },
      "execution_count": 61,
      "outputs": [
        {
          "output_type": "stream",
          "name": "stderr",
          "text": [
            "/tmp/ipython-input-3662172065.py:8: FutureWarning: \n",
            "\n",
            "Passing `palette` without assigning `hue` is deprecated and will be removed in v0.14.0. Assign the `x` variable to `hue` and set `legend=False` for the same effect.\n",
            "\n",
            "  sns.barplot(x='delivery_id', y='distance_km', data=longest_deliveries, palette='coolwarm')\n"
          ]
        },
        {
          "output_type": "display_data",
          "data": {
            "text/plain": [
              "<Figure size 1000x600 with 1 Axes>"
            ],
            "image/png": "[encoded data removed]"
          },
          "metadata": {}
        }
      ]
    },
    {
      "cell_type": "code",
      "source": [
        "deliveries_data = pd.read_sql(\"SELECT distance_km, weight_kg FROM deliveries\", conn)\n",
        "\n",
        "sns.scatterplot(x='distance_km', y='weight_kg', data=deliveries_data, hue='weight_kg', palette='viridis', size='weight_kg', sizes=(50,200))\n",
        "plt.title('Package Weight vs Delivery Distance')\n",
        "plt.xlabel('Distance (km)')\n",
        "plt.ylabel('Weight (kg)')\n",
        "plt.show()\n"
      ],
      "metadata": {
        "colab": {
          "base_uri": "https://localhost:8080/",
          "height": 564
        },
        "id": "n-eSg2yOI_6k",
        "outputId": "6a811b62-4b5f-48df-a2f7-5bcafb6eea2a"
      },
      "execution_count": 62,
      "outputs": [
        {
          "output_type": "display_data",
          "data": {
            "text/plain": [
              "<Figure size 1000x600 with 1 Axes>"
            ],
            "image/png": "[encoded data removed]"
          },
          "metadata": {}
        }
      ]
    }
  ]
}